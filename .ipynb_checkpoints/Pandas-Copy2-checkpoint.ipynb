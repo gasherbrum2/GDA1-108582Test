{
 "cells": [
  {
   "cell_type": "markdown",
   "id": "70e6636f-53a2-4130-b6c3-e2e960550787",
   "metadata": {},
   "source": [
    "# **Introduction to Pandas DataFrames**\n",
    "\n",
    "<img src=\"Pandas.webp\" alt=\"Pandas image\" width=\"750\" height=\"auto\">\n",
    "\n",
    "<a href=\"https://pandas.pydata.org/#italic\" style=\"color: rgb(0,90,250); text-decoration: underline;text-decoration-style: dotted;\">Pandas</a> is a powerful and versatile library for Python, designed primarily for data manipulation and  \n",
    "analysis. To quote from Nvidia’s website:\n",
    "\n",
    "> Pandas is the most popular software library for data manipulation and data analysis for the Python  \n",
    "programming language. <a href=\"https://www.nvidia.com/en-us/glossary/pandas-python\" style=\"color: rgb(0,90,250); text-decoration: underline;text-decoration-style: dotted;\">www.nvidia.com</a>"
   ]
  },
  {
   "cell_type": "markdown",
   "id": "e847c5fd-c135-4536-8780-961a5b452fbe",
   "metadata": {},
   "source": [
    "Here is an (incomplete) list of some key functionalities provided by Pandas:\n",
    "\n",
    ">#### 1. **Data Structures**\n",
    ">>    &#9900; *Series*: One-dimensional labeled array capable of holding data of any type.   \n",
    ">>    &#9900; *DataFrame*: Two-dimensional, size-mutable, potentially heterogeneous tabular data structure     \n",
    ">>        with labeled axes (rows and columns).\n",
    ">#### 2. **Data Manipulation**  \n",
    ">>    &#9900; *Data Selection and Indexing*: Access data via labels, indices, or boolean masks (<code><span style='color:purple'>.loc, .iloc, .at, .iat</span></code>).      \n",
    ">>   &#9900; *Filtering*: Filter data based on conditions or queries.     \n",
    ">>    &#9900; *Sorting*: Sort data by labels or values.      \n",
    ">>    &#9900; *Handling Missing Data*: Identify, fill, or drop missing values (<code><span style='color:purple'>isnull, dropna, fillna</span></code>). \n",
    ">#### 3. **Data Cleaning**  \n",
    ">>    &#9900; *Dropping Duplicates*: Remove duplicate rows or columns.  \n",
    ">>    &#9900; *Replacing Values*: Replace specific values in the DataFrame.  \n",
    ">>    &#9900; *String Operations*: Perform operations on string data, like splitting, replacing, and pattern  \n",
    ">>      matching (<code><span style='color:purple'>str.split, str.replace</span></code>).  \n",
    ">#### 4. **Aggregation and Grouping** \n",
    ">>    &#9900; *Group By*: Split data into groups based on criteria, and perform aggregate functions like sum,  \n",
    ">>      mean, or custom operations.  \n",
    ">>    &#9900; *Pivot Tables*: Create a pivot table to summarize data.  \n",
    ">#### 5. **Merging and Joining**  \n",
    "> >   &#9900; *Concatenation*: Combine multiple DataFrames along a particular axis.  \n",
    "> >&#9900; *Merging*: Merge DataFrames similar to SQL joins (<code><span style='color:purple'>merge, join</span></code>)\n",
    ">#### 6. **Time Series**  \n",
    ">>    &#9900; *Datetime Conversion*: Convert date and time data to a datetime object.  \n",
    ">>    &#9900; *Resampling*: Aggregate data over a time period. \n",
    ">>    &#9900; *Time-based Indexing*: Access and manipulate time-series data easily with date indexing.  \n",
    ">#### 7. **Statistical and Mathematical Operations**    \n",
    ">>    &#9900; *Descriptive Statistics*: Compute summary statistics for DataFrame columns.  \n",
    ">>    &#9900; *Correlation/ Covariance*: Calculate the pairwise correlation or covariance between columns.  \n",
    ">>    &#9900; *Cumulative Operations*: Perform cumulative operations on data.  \n",
    "\n",
    "At the heart of Pandas lies the DataFrame, a two-dimensional labeled data structure with columns of   \n",
    "potentially different types, similar to a table in a relational database or an Excel spreadsheet.   \n",
    "Understanding DataFrames is crucial for anyone looking to perform data analysis in Python."
   ]
  },
  {
   "cell_type": "markdown",
   "id": "55f28453-8385-4c0a-adc0-f8069e611181",
   "metadata": {},
   "source": [
    "# What is a DataFrame?\n",
    "\n",
    "A DataFrame is a table-like structure in Pandas that consists of rows and columns, where each column can  \n",
    "hold different data types (e.g., integers,   \n",
    "floats, strings). You can think of it as a collection of Series objects,  \n",
    "where each Series is a single column of data. DataFrames provide a highly efficient way to store and   \n",
    "manipulate large datasets in memory.\n",
    "\n",
    "# Creating a DataFrame\n",
    "\n",
    "There are several ways to create a DataFrame in Pandas, but some of the most common methods are:\n",
    "\n",
    ">    1. From a Dictionary\n",
    ">    2. From a List of Lists\n",
    ">    3. From a CSV File\n",
    "\n",
    "Below we take a look at the first two approaches.\n",
    "\n",
    "## Creating DataFrame from a Dictionary\n",
    "The following code will create a DataFrame with three columns: ‘Name’, ‘Age’, and ‘City’, and three rows   \n",
    "corresponding to the data provided in the dictionary. To be able to use Pandas, we first have to import it.   \n",
    "This is done using the command <code><span style='color:purple'>import pandas as pd</span></code>, introducing the alias <code><span style='color:purple'>pd</span></code> for Pandas."
   ]
  },
  {
   "cell_type": "code",
   "execution_count": 21,
   "id": "1fc88742-be9d-40b5-b400-46a794912877",
   "metadata": {},
   "outputs": [
    {
     "name": "stdout",
     "output_type": "stream",
     "text": [
      "      Name  Age         City\n",
      "0    Alice   25     New York\n",
      "1      Bob   30  Los Angeles\n",
      "2  Charlie   35      Chicago\n"
     ]
    }
   ],
   "source": [
    "import pandas as pd\n",
    "\n",
    "data = {\n",
    "    'Name': ['Alice', 'Bob', 'Charlie'],\n",
    "    'Age': [25, 30, 35],\n",
    "    'City': ['New York', 'Los Angeles', 'Chicago']\n",
    "}\n",
    "\n",
    "df = pd.DataFrame(data)\n",
    "print(df)"
   ]
  },
  {
   "cell_type": "markdown",
   "id": "9075901a-f238-4f8f-9e98-862dc1a3165b",
   "metadata": {},
   "source": [
    "## Creating DataFrame from a List of Lists\n",
    "Here, we create the DataFrame from a list of lists where each inner list represents the values for one row. Note that We explicitly specify the column names when creating the DataFrame."
   ]
  },
  {
   "cell_type": "code",
   "execution_count": 18,
   "id": "dfe6519f-8dd3-4634-96bf-d672199484d7",
   "metadata": {},
   "outputs": [
    {
     "name": "stdout",
     "output_type": "stream",
     "text": [
      "      Name  Age         City\n",
      "0    Alice   25     New York\n",
      "1      Bob   30  Los Angeles\n",
      "2  Charlie   35      Chicago\n"
     ]
    }
   ],
   "source": [
    "data = [\n",
    "    ['Alice', 25, 'New York'],\n",
    "    ['Bob', 30, 'Los Angeles'],\n",
    "    ['Charlie', 35, 'Chicago']\n",
    "]\n",
    "\n",
    "df = pd.DataFrame(data, columns=['Name', 'Age', 'City'])\n",
    "print(df)"
   ]
  },
  {
   "cell_type": "markdown",
   "id": "5283f1f5-0d8f-4f5a-a024-d337109d8797",
   "metadata": {},
   "source": [
    "# Accessing Data in a DataFrame\n",
    "\n",
    "Once you have a DataFrame, you can access its data in various ways:\n",
    "\n",
    "> * By column name:"
   ]
  },
  {
   "cell_type": "code",
   "execution_count": 8,
   "id": "b0607d61-47ef-4c5e-8c98-d3a352192daf",
   "metadata": {},
   "outputs": [
    {
     "name": "stdout",
     "output_type": "stream",
     "text": [
      "0      Alice\n",
      "1        Bob\n",
      "2    Charlie\n",
      "Name: Name, dtype: object\n"
     ]
    }
   ],
   "source": [
    "print(df['Name'])"
   ]
  },
  {
   "cell_type": "markdown",
   "id": "3bd3032d-a13d-4b36-824b-1612905a0962",
   "metadata": {},
   "source": [
    "> * By row index:"
   ]
  },
  {
   "cell_type": "code",
   "execution_count": 11,
   "id": "a9fda34b-c332-4a12-8bd0-dbe4e1f569c6",
   "metadata": {},
   "outputs": [
    {
     "name": "stdout",
     "output_type": "stream",
     "text": [
      "Name       Alice\n",
      "Age           25\n",
      "City    New York\n",
      "Name: 0, dtype: object\n"
     ]
    }
   ],
   "source": [
    "print(df.iloc[0])"
   ]
  },
  {
   "cell_type": "markdown",
   "id": "f82ad54d-ced3-4730-922c-7d7ba5ed6b10",
   "metadata": {},
   "source": [
    "> * Using both:"
   ]
  },
  {
   "cell_type": "code",
   "execution_count": 14,
   "id": "30a44581-0e16-423f-9b8c-1995062c2548",
   "metadata": {},
   "outputs": [
    {
     "name": "stdout",
     "output_type": "stream",
     "text": [
      "Alice\n"
     ]
    }
   ],
   "source": [
    "print(df.loc[0, 'Name'])"
   ]
  },
  {
   "cell_type": "markdown",
   "id": "af860517-1cea-4070-b5d4-6d9c3af76a69",
   "metadata": {},
   "source": [
    "# Conclusion\n",
    "\n",
    "Pandas DataFrames are a fundamental tool in the data analysis toolkit for Python users. They provide a     \n",
    "powerful way to organize, manipulate, and analyze data efficiently. Whether you’re working with small   \n",
    "datasets or handling large-scale data, mastering DataFrames will allow you to tackle a wide range of data-  \n",
    "related tasks with ease.\n",
    "\n",
    "In this introduction, we’ve covered the basics of what a DataFrame is, how to create one, and how to   \n",
    "access columns, rows, and individual cells in a DataFrame. As you continue to explore Pandas, you’ll   \n",
    "discover many more features and capabilities that make DataFrames an indispensable part of Python   \n",
    "programming. The table below contains a number of resources related to Pandas."
   ]
  },
  {
   "cell_type": "markdown",
   "id": "d5bebddd-fa4e-46b3-a0fd-152f36a0c47b",
   "metadata": {},
   "source": [
    "|Resource                     |Description                                    |   \n",
    "|:----------------------------|:----------------------------------------------|      \n",
    "|<a href=\"https://pandas.pydata.org\" style=\"color: rgb(0,90,250); text-decoration: underline;text-decoration-style: dotted;\">Pandas Documentation</a> | Official documentation for Pandas.  |\n",
    "|<a href=\"https://www.oreilly.com/library/view/python-for-data/9781491957653//\" style=\"color: rgb(0,90,250); text-decoration: underline;text-decoration-style: dotted;\">Python for Data Analysis</a> | Comprehensive guide by Pandas creator, Wes McKinney.  |\n",
    "|<a href=\"https://realpython.com/pandas-dataframe\" style=\"color: rgb(0,90,250); text-decoration: underline;text-decoration-style: dotted;\">Real Python: The Pandas DataFrame</a> |Tutorials on using Pandas for data analysis.  |\n",
    "|<a href=\"https://www.kaggle.com/learn/pandas\" style=\"color: rgb(0,90,250); text-decoration: underline;text-decoration-style: dotted;\">Kaggle Pandas</a>   | Free introductory course on Pandas by Kaggle.  |\n",
    "|<a href=\"https://www.datacamp.com/tutorial/pandas-tutorial-dataframe-python\" style=\"color: rgb(0,90,250); text-decoration: underline;text-decoration-style: dotted;\">DataCamp Pandas Tutorial</a> | Detailed tutorials and exercises on Pandas.|"
   ]
  },
  {
   "cell_type": "code",
   "execution_count": 43,
   "id": "415b2a54-380b-4092-9cc2-21249ad35fd4",
   "metadata": {},
   "outputs": [
    {
     "data": {
      "text/html": [
       "<style>\n",
       "        table { \n",
       "            float:left\n",
       "         }\n",
       "</style>\n"
      ],
      "text/plain": [
       "<IPython.core.display.HTML object>"
      ]
     },
     "metadata": {},
     "output_type": "display_data"
    }
   ],
   "source": [
    "%%html\n",
    "<style>\n",
    "        table { \n",
    "            float:left\n",
    "         }\n",
    "</style>"
   ]
  },
  {
   "cell_type": "code",
   "execution_count": null,
   "id": "04b2baf0-e85e-4b27-859f-287ae02364f2",
   "metadata": {},
   "outputs": [],
   "source": []
  }
 ],
 "metadata": {
  "kernelspec": {
   "display_name": "Python 3 (ipykernel)",
   "language": "python",
   "name": "python3"
  },
  "language_info": {
   "codemirror_mode": {
    "name": "ipython",
    "version": 3
   },
   "file_extension": ".py",
   "mimetype": "text/x-python",
   "name": "python",
   "nbconvert_exporter": "python",
   "pygments_lexer": "ipython3",
   "version": "3.12.4"
  }
 },
 "nbformat": 4,
 "nbformat_minor": 5
}
