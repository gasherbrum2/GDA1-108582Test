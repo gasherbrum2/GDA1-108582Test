{
 "cells": [
  {
   "cell_type": "markdown",
   "id": "70e6636f-53a2-4130-b6c3-e2e960550787",
   "metadata": {},
   "source": [
    "# **Introduction to Pandas DataFrames**\n",
    "\n",
    "<img src=\"Pandas.webp\" alt=\"Pandas image\" width=\"750\" height=\"auto\">\n",
    "\n",
    "<a href=\"https://pandas.pydata.org/#italic\" style=\"color: rgb(0,90,250); text-decoration: underline;text-decoration-style: dotted;\">Pandas</a> is a powerful and versatile library for Python, designed primarily for data manipulation and  \n",
    "analysis. To quote from Nvidia’s website:\n",
    "\n",
    "> Pandas is the most popular software library for data manipulation and data analysis for the Python  \n",
    "programming language. <a href=\"https://www.nvidia.com/en-us/glossary/pandas-python\" style=\"color: rgb(0,90,250); text-decoration: underline;text-decoration-style: dotted;\">www.nvidia.com</a>"
   ]
  },
  {
   "cell_type": "markdown",
   "id": "e847c5fd-c135-4536-8780-961a5b452fbe",
   "metadata": {},
   "source": [
    "Here is an (incomplete) list of some key functionalities provided by Pandas:\n",
    "\n",
    ">#### 1. **Data Structures**\n",
    ">>    &#9900; *Series*: One-dimensional labeled array capable of holding data of any type.   \n",
    ">>    &#9900; *DataFrame*: Two-dimensional, size-mutable, potentially heterogeneous tabular data structure     \n",
    ">>        with labeled axes (rows and columns).\n",
    ">#### 2. **Data Manipulation**  \n",
    ">>    &#9900; *Data Selection and Indexing*: Access data via labels, indices, or boolean masks (<code><span style='color:purple'>.loc, .iloc, .at, .iat</span></code>).      \n",
    ">>   &#9900; *Filtering*: Filter data based on conditions or queries.     \n",
    ">>    &#9900; *Sorting*: Sort data by labels or values.      \n",
    ">>    &#9900; *Handling Missing Data*: Identify, fill, or drop missing values (<code><span style='color:purple'>isnull, dropna, fillna</span></code>). \n",
    ">#### 3. **Data Cleaning**  \n",
    ">>    &#9900; *Dropping Duplicates*: Remove duplicate rows or columns.  \n",
    ">>    &#9900; *Replacing Values*: Replace specific values in the DataFrame.  \n",
    ">>    &#9900; *String Operations*: Perform operations on string data, like splitting, replacing, and pattern  \n",
    ">>      matching (<code><span style='color:purple'>str.split, str.replace</span></code>).  \n",
    ">#### 4. **Aggregation and Grouping** \n",
    ">>    &#9900; *Group By*: Split data into groups based on criteria, and perform aggregate functions like sum,  \n",
    ">>      mean, or custom operations.  \n",
    ">>    &#9900; *Pivot Tables*: Create a pivot table to summarize data.  \n",
    ">#### 5. **Merging and Joining**  \n",
    "> >   &#9900; *Concatenation*: Combine multiple DataFrames along a particular axis.  \n",
    "> >&#9900; *Merging*: Merge DataFrames similar to SQL joins (<code><span style='color:purple'>merge, join</span></code>)\n",
    ">#### 6. **Time Series**  \n",
    ">>    &#9900; *Datetime Conversion*: Convert date and time data to a datetime object.  \n",
    ">>    &#9900; *Resampling*: Aggregate data over a time period. \n",
    ">>    &#9900; *Time-based Indexing*: Access and manipulate time-series data easily with date indexing.  \n",
    ">#### 7. **Statistical and Mathematical Operations**    \n",
    ">>    &#9900; *Descriptive Statistics*: Compute summary statistics for DataFrame columns.  \n",
    ">>    &#9900; *Correlation/ Covariance*: Calculate the pairwise correlation or covariance between columns.  \n",
    ">>    &#9900; *Cumulative Operations*: Perform cumulative operations on data.  \n",
    "\n",
    "At the heart of Pandas lies the DataFrame, a two-dimensional labeled data structure with columns of   \n",
    "potentially different types, similar to a table in a relational database or an Excel spreadsheet.   \n",
    "Understanding DataFrames is crucial for anyone looking to perform data analysis in Python."
   ]
  },
  {
   "cell_type": "markdown",
   "id": "55f28453-8385-4c0a-adc0-f8069e611181",
   "metadata": {},
   "source": [
    "# What is a DataFrame?\n",
    "\n",
    "A DataFrame is a table-like structure in Pandas that consists of rows and columns, where each column can  \n",
    "hold different data types (e.g., integers,   \n",
    "floats, strings). You can think of it as a collection of Series objects,  \n",
    "where each Series is a single column of data. DataFrames provide a highly efficient way to store and   \n",
    "manipulate large datasets in memory.\n",
    "\n",
    "# Creating a DataFrame\n",
    "\n",
    "There are several ways to create a DataFrame in Pandas, but some of the most common methods are:\n",
    "\n",
    ">    1. From a Dictionary\n",
    ">    2. From a List of Lists\n",
    ">    3. From a CSV File\n",
    "\n",
    "Below we take a look at the first two approaches.\n",
    "\n",
    "## Creating DataFrame from a Dictionary\n",
    "The following code will create a DataFrame with three columns: ‘Name’, ‘Age’, and ‘City’, and three rows   \n",
    "corresponding to the data provided in the dictionary. To be able to use Pandas, we first have to import it.   \n",
    "This is done using the command <code><span style='color:purple'>import pandas as pd</span></code>, introducing the alias <code><span style='color:purple'>pd</span></code> for Pandas."
   ]
  },
  {
   "cell_type": "code",
   "execution_count": null,
   "id": "1fc88742-be9d-40b5-b400-46a794912877",
   "metadata": {},
   "outputs": [],
   "source": []
  }
 ],
 "metadata": {
  "kernelspec": {
   "display_name": "Python 3 (ipykernel)",
   "language": "python",
   "name": "python3"
  },
  "language_info": {
   "codemirror_mode": {
    "name": "ipython",
    "version": 3
   },
   "file_extension": ".py",
   "mimetype": "text/x-python",
   "name": "python",
   "nbconvert_exporter": "python",
   "pygments_lexer": "ipython3",
   "version": "3.12.4"
  }
 },
 "nbformat": 4,
 "nbformat_minor": 5
}
