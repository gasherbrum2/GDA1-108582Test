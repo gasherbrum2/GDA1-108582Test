{
 "cells": [
  {
   "cell_type": "markdown",
   "id": "70e6636f-53a2-4130-b6c3-e2e960550787",
   "metadata": {},
   "source": [
    "# **Introduction to Pandas DataFrames**\n",
    "\n",
    "<img src=\"Pandas.webp\" alt=\"Pandas image\" width=\"750\" height=\"auto\">\n",
    "\n",
    "<a href=\"https://pandas.pydata.org/#italic\" style=\"color: rgb(0,90,250); text-decoration: underline;text-decoration-style: dotted;\">Pandas</a> is a powerful and versatile library for Python, designed primarily for data manipulation and  \n",
    "analysis. To quote from Nvidia’s website:\n",
    "\n",
    "> Pandas is the most popular software library for data manipulation and data analysis for the Python  \n",
    "programming language. <a href=\"https://www.nvidia.com/en-us/glossary/pandas-python\" style=\"color: rgb(0,90,250); text-decoration: underline;text-decoration-style: dotted;\">www.nvidia.com</a>"
   ]
  }
 ],
 "metadata": {
  "kernelspec": {
   "display_name": "Python 3 (ipykernel)",
   "language": "python",
   "name": "python3"
  },
  "language_info": {
   "codemirror_mode": {
    "name": "ipython",
    "version": 3
   },
   "file_extension": ".py",
   "mimetype": "text/x-python",
   "name": "python",
   "nbconvert_exporter": "python",
   "pygments_lexer": "ipython3",
   "version": "3.12.4"
  }
 },
 "nbformat": 4,
 "nbformat_minor": 5
}
